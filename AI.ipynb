{
 "cells": [
  {
   "cell_type": "code",
   "execution_count": null,
   "metadata": {},
   "outputs": [],
   "source": [
    "import pandas as pd \n",
    "import numpy as np \n",
    "from sklearn.model_selection import train_test_split, cross_val_score \n",
    "from sklearn.feature_extraction.text import TfidfVectorizer \n",
    "from sklearn.naive_bayes import MultinomialNB \n",
    "from sklearn.linear_model import LogisticRegression \n",
    "from sklearn.svm import SVC \n",
    "from sklearn.ensemble import RandomForestClassifier \n",
    "from sklearn.metrics import classification_report \n"
   ]
  },
  {
   "cell_type": "code",
   "execution_count": null,
   "metadata": {},
   "outputs": [],
   "source": [
    "df = pd.read_csv('Automotive reviews for AI model.csv')"
   ]
  },
  {
   "cell_type": "code",
   "execution_count": null,
   "metadata": {},
   "outputs": [],
   "source": [
    "X = df['clean_review'] \n",
    "y = df['detailed_emotion']"
   ]
  },
  {
   "cell_type": "code",
   "execution_count": null,
   "metadata": {},
   "outputs": [],
   "source": [
    "vectorizer = TfidfVectorizer() \n",
    "X_vectorized = vectorizer.fit_transform(X)"
   ]
  },
  {
   "cell_type": "code",
   "execution_count": null,
   "metadata": {},
   "outputs": [],
   "source": [
    "NB_model = MultinomialNB() \n",
    "lr_model = LogisticRegression(max_iter=50000) \n",
    "svm_model = SVC() \n",
    "rf_model = RandomForestClassifier()"
   ]
  },
  {
   "cell_type": "code",
   "execution_count": null,
   "metadata": {},
   "outputs": [],
   "source": [
    "cv_scores_NB = cross_val_score(NB_model, X_vectorized, y, cv=20, scoring='accuracy') \n",
    "X_train, X_test, y_train, y_test = train_test_split(X_vectorized, y, test_size=0.2, random_state=42) \n",
    "NB_model.fit(X_train, y_train) \n",
    "y_pred_NB = NB_model.predict(X_test) \n",
    " \n",
    "print(\"Naive Bayes Classification Report (Test Set):\") \n",
    "print(classification_report(y_test, y_pred_NB, zero_division=1)) \n",
    "print(\"\\nNaive Bayes Cross-Validation Scores:\", cv_scores_NB) \n",
    "print(\"Naive Bayes Mean CV Accuracy:\", cv_scores_NB.mean()) "
   ]
  },
  {
   "cell_type": "code",
   "execution_count": null,
   "metadata": {},
   "outputs": [],
   "source": [
    "cv_scores_lr = cross_val_score(lr_model, X_vectorized, y, cv=10, scoring='accuracy') \n",
    "X_train, X_test, y_train, y_test = train_test_split(X_vectorized, y, test_size=0.2, random_state=42) \n",
    "lr_model.fit(X_train, y_train) \n",
    "y_pred_lr = lr_model.predict(X_test) \n",
    "print(\"\\nLogistic Regression Classification Report (Test Set):\") \n",
    "print(classification_report(y_test, y_pred_lr, zero_division=1)) \n",
    "print(\"\\nLogistic Regression Cross-Validation Scores:\", cv_scores_lr) \n",
    "print(\"Logistic Regression Mean CV Accuracy:\", cv_scores_lr.mean()) "
   ]
  },
  {
   "cell_type": "code",
   "execution_count": null,
   "metadata": {},
   "outputs": [],
   "source": [
    "cv_scores_rf = cross_val_score(rf_model, X_vectorized, y, cv=10, scoring='accuracy') \n",
    "X_train, X_test, y_train, y_test = train_test_split(X_vectorized, y, test_size=0.2, random_state=42) \n",
    "rf_model.fit(X_train, y_train) \n",
    "y_pred_rf = rf_model.predict(X_test) \n",
    " \n",
    "print(\"\\nRandom Forest Classification Report (Test Set):\") \n",
    "print(classification_report(y_test, y_pred_rf, zero_division=1)) \n",
    "print(\"\\nRandom Forest Cross-Validation Scores:\", cv_scores_rf) \n",
    "print(\"Random Forest Mean CV Accuracy:\", cv_scores_rf.mean()) "
   ]
  },
  {
   "cell_type": "code",
   "execution_count": null,
   "metadata": {},
   "outputs": [],
   "source": [
    "svm_model = SVC(kernel='linear') \n",
    "cv_scores_svm = cross_val_score(svm_model, X_vectorized, y, cv=10, scoring='accuracy') \n",
    "X_train, X_test, y_train, y_test = train_test_split(X_vectorized, y, test_size=0.2, random_state=42) \n",
    "svm_model.fit(X_train, y_train) \n",
    "y_pred_svm = svm_model.predict(X_test) \n",
    " \n",
    "print(\"\\nSVM Classification Report (Test Set):\") \n",
    "print(classification_report(y_test, y_pred_svm, zero_division=1)) \n",
    "print(\"\\nSVM Cross-Validation Scores:\", cv_scores_svm) \n",
    "print(\"SVM Mean CV Accuracy:\", cv_scores_svm.mean()) "
   ]
  },
  {
   "cell_type": "code",
   "execution_count": null,
   "metadata": {},
   "outputs": [],
   "source": [
    "from sklearn.ensemble import VotingClassifier"
   ]
  },
  {
   "cell_type": "code",
   "execution_count": null,
   "metadata": {},
   "outputs": [],
   "source": [
    "svm_model = SVC(kernel='linear') \n",
    "lr_model = LogisticRegression(max_iter=1000)"
   ]
  },
  {
   "cell_type": "code",
   "execution_count": null,
   "metadata": {},
   "outputs": [],
   "source": [
    "X_train, X_test, y_train, y_test = train_test_split(X_vectorized, y, test_size=0.2, \n",
    "random_state=42)"
   ]
  },
  {
   "cell_type": "code",
   "execution_count": null,
   "metadata": {},
   "outputs": [],
   "source": [
    "ensemble_model = VotingClassifier(estimators=[('svm', svm_model), ('lr', lr_model)], \n",
    "voting='hard')"
   ]
  },
  {
   "cell_type": "code",
   "execution_count": null,
   "metadata": {},
   "outputs": [],
   "source": [
    "cv_scores_ensemble = cross_val_score(ensemble_model, X_vectorized, y, cv=10, scoring='accuracy')"
   ]
  },
  {
   "cell_type": "code",
   "execution_count": null,
   "metadata": {},
   "outputs": [],
   "source": [
    "ensemble_model.fit(X_train, y_train) "
   ]
  },
  {
   "cell_type": "code",
   "execution_count": null,
   "metadata": {},
   "outputs": [],
   "source": [
    "y_pred_ensemble = ensemble_model.predict(X_test) "
   ]
  },
  {
   "cell_type": "code",
   "execution_count": null,
   "metadata": {},
   "outputs": [],
   "source": [
    "print(\"\\nEnsemble Classification Report (Test Set):\") \n",
    "print(classification_report(y_test, y_pred_ensemble, zero_division=1)) \n",
    "print(\"\\nEnsemble Cross-Validation Scores:\", cv_scores_ensemble) \n",
    "print(\"Ensemble Mean CV Accuracy:\", cv_scores_ensemble.mean()) "
   ]
  },
  {
   "cell_type": "code",
   "execution_count": null,
   "metadata": {},
   "outputs": [],
   "source": [
    "import pickle"
   ]
  },
  {
   "cell_type": "code",
   "execution_count": null,
   "metadata": {},
   "outputs": [],
   "source": [
    "pickle_file_path = 'ensemble_model.pkl'"
   ]
  },
  {
   "cell_type": "code",
   "execution_count": null,
   "metadata": {},
   "outputs": [],
   "source": [
    "with open(pickle_file_path, 'wb') as file: \n",
    "    pickle.dump(ensemble_model, file) \n",
    " \n",
    "print(\"Ensemble model saved to\", pickle_file_path)"
   ]
  },
  {
   "cell_type": "code",
   "execution_count": null,
   "metadata": {},
   "outputs": [],
   "source": [
    "vectorizer_pickle_path = 'vectorizer_final.pkl' \n",
    "# Save the vectorizer to a pickle file \n",
    "with open(vectorizer_pickle_path, 'wb') as file: \n",
    "    pickle.dump(vectorizer, file) \n",
    " \n",
    "print(\"Vectorizer saved to\", vectorizer_pickle_path) "
   ]
  }
 ],
 "metadata": {
  "kernelspec": {
   "display_name": "base",
   "language": "python",
   "name": "python3"
  },
  "language_info": {
   "name": "python",
   "version": "3.11.5"
  }
 },
 "nbformat": 4,
 "nbformat_minor": 2
}
